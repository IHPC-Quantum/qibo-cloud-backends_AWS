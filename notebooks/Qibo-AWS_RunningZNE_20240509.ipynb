{
 "cells": [
  {
   "cell_type": "markdown",
   "id": "159cfe0f-951a-429e-bc15-0c1fbf9abfc8",
   "metadata": {},
   "source": [
    "# Import"
   ]
  },
  {
   "cell_type": "code",
   "execution_count": null,
   "id": "836ca044-fb79-4cee-81d3-4fc1bbd38044",
   "metadata": {},
   "outputs": [],
   "source": [
    "# some_file.py\n",
    "import sys\n",
    "# caution: path[0] is reserved for script path (or '' in REPL)\n",
    "sys.path.append('/Users/matt/Documents/GitHub/qibo-cloud-backends_AWS/src/qibo_cloud_backends/')\n",
    "\n",
    "import aws_client"
   ]
  },
  {
   "cell_type": "markdown",
   "id": "7c8fcea3-7a78-4e03-873c-e3d75080c62e",
   "metadata": {},
   "source": [
    "# Latest aws_client.py"
   ]
  },
  {
   "cell_type": "code",
   "execution_count": null,
   "id": "7df81b98-60b4-4fb9-aa65-823921b04d8f",
   "metadata": {},
   "outputs": [],
   "source": [
    "from qibo.backends import NumpyBackend\n",
    "from qibo.config import raise_error\n",
    "from qibo.result import MeasurementOutcomes, QuantumState\n",
    "from qibo import gates\n",
    "from qibo import Circuit as QiboCircuit\n",
    "from qibo.transpiler.pipeline import Passes, assert_transpiling\n",
    "from qibo.transpiler.optimizer import Preprocessing\n",
    "from qibo.transpiler.router import ShortestPaths\n",
    "from qibo.transpiler.unroller import Unroller, NativeGates\n",
    "from qibo.transpiler.placer import Random\n",
    "\n",
    "import re\n",
    "import importlib.util\n",
    "import sys\n",
    "import networkx as nx\n",
    "\n",
    "from braket.aws import AwsDevice, AwsQuantumTask\n",
    "from braket.circuits import Gate, observables\n",
    "from braket.circuits import Circuit as BraketCircuit\n",
    "from braket.devices import Devices, LocalSimulator\n",
    "\n",
    "_QASM_BRAKET_GATES = {\n",
    "    \"id\": \"i\",\n",
    "    \"cx\": \"cnot\",\n",
    "    \"sx\": \"v\",\n",
    "    \"sxdg\": \"vi\",\n",
    "    \"sdg\": \"si\",\n",
    "    \"tdg\": \"ti\",\n",
    "    \"u3\": \"U\",\n",
    "}\n",
    "\n",
    "class BraketClientBackend(NumpyBackend):\n",
    "    \"\"\"Backend for the remote execution of AWS circuits on the AWS backends.\n",
    "\n",
    "    Args:\n",
    "        device_arn (str | None): The ARN of the Braket device.\n",
    "            If `None`, instantiates the `LocalSimulator(\"default\")`.\n",
    "    \"\"\"\n",
    "\n",
    "    def __init__(self, device=None, verbatim_circuit=False, transpilation=False, native_gates=None, coupling_map=None):\n",
    "        \"\"\"Initializes BraketBackend.\n",
    "\n",
    "        Args:\n",
    "            device (str): Default device is Braket's statevector LocalSimulator, LocalSimulator(\"default\").\n",
    "                Other devices are Braket's density matrix simulator, LocalSimulator(\"braket_dm\"), or any other\n",
    "                QPUs.\n",
    "            verbatim_circuit (bool): If `True`, wrap the Braket circuit in a verbatim box to run it on the QPU\n",
    "                without any transpilation. Defaults to `False`.\n",
    "            transpilation (bool): If `True`, use Qibo's transpilation. Requires two additional arguments:\n",
    "                native_gates and coupling_map.\n",
    "            native_gates (list, qibo.gates): e.g. [gates.I, gates.RZ, gates.SX, gates.X, gates.ECR]\n",
    "            coupling_map (list, list): E.g. [[0, 1], [0, 7], [1, 2], [2, 3], [4, 3], [4, 5], [6, 5], [7, 6]]\n",
    "        \"\"\"\n",
    "        \n",
    "        super().__init__()\n",
    "        \n",
    "        self.verbatim_circuit = verbatim_circuit\n",
    "\n",
    "        self.transpilation = transpilation\n",
    "        if transpilation:\n",
    "            if coupling_map is None:\n",
    "                raise_error(ValueError, \"Expected qubit_map. E.g. qubit_map = [[0, 1], [0, 7], [1, 2], [2, 3], [4, 3], [4, 5], [6, 5], [7, 6]]\")\n",
    "            else:\n",
    "                self.coupling_map = coupling_map\n",
    "            if native_gates is None:\n",
    "                raise_error(ValueError, \"Expected native gates for transpilation. E.g. native_gates = [gates.I, gates.RZ, gates.SX, gates.X, gates.ECR]\")\n",
    "            else:\n",
    "                self.native_gates = native_gates\n",
    "\n",
    "        \n",
    "        if device is None:\n",
    "            self.device = LocalSimulator(\"default\")\n",
    "            # self.device = LocalSimulator(\"braket_dm\")\n",
    "        else:\n",
    "            self.device = device\n",
    "        self.name = \"aws\"\n",
    "\n",
    "    def remove_qelib1_inc(self, qasm_string):\n",
    "        \"\"\"To remove the 'includes qe1lib.inc' from the OpenQASM string.\n",
    "\n",
    "        Args: \n",
    "            qasm_code (OpenQASM circuit, str): circuit given in the OpenQASM format.\n",
    "\n",
    "        Returns:\n",
    "            qasm_code (OpenQASM circuit, str): circuit given in the OpenQASM format.\n",
    "        \"\"\"\n",
    "        \n",
    "        # Remove the \"include \"qelib1.inc\";\\n\" line\n",
    "        modified_code = re.sub(r'include\\s+\"qelib1.inc\";\\n', '', qasm_string)\n",
    "        return modified_code\n",
    "    \n",
    "    def qasm_convert_gates(self, qasm_code):\n",
    "        \"\"\"To replace the notation for certain gates in OpenQASM\n",
    "\n",
    "        Args: \n",
    "            qasm_code (OpenQASM circuit, str): circuit given in the OpenQASM format.\n",
    "\n",
    "        Returns:\n",
    "            qasm_code (OpenQASM circuit, str): circuit given in the OpenQASM format.\n",
    "        \"\"\"\n",
    "        \n",
    "        lines = qasm_code.split('\\n')\n",
    "        modified_code = \"\"\n",
    "        for line in lines:\n",
    "            for key in _QASM_BRAKET_GATES:\n",
    "                if key in line:\n",
    "                    line = line.replace(key, _QASM_BRAKET_GATES[key])\n",
    "                    break\n",
    "            modified_code += line + '\\n'\n",
    "        return modified_code\n",
    "\n",
    "    def custom_connectivity(self, coupling_map):\n",
    "        \"\"\"Converts a coupling map given in list form to a networkx graph.\n",
    "    \n",
    "        Args:\n",
    "            coupling_map (list): E.g. [[0, 1], [0, 7], [1, 2], [2, 3], [4, 3], [4, 5], [6, 5], [7, 6]]\n",
    "        Returns:\n",
    "            graph (networkx graph): graph\n",
    "        \"\"\"\n",
    "        \n",
    "        graph = nx.Graph()\n",
    "        for connection in coupling_map:\n",
    "            q1, q2 = connection\n",
    "            graph.add_edge(q1, q2)\n",
    "        return graph\n",
    "    \n",
    "    def transpile_qibo_to_qibo(self, circuit):\n",
    "        \"\"\"Transpiles a Qibo circuit with a specific topology specified by connectivity and custom_native_gates.\n",
    "            There is no option for optimization_level like Qiskit. Therefore, no gates will be collapsed.\n",
    "    \n",
    "        Args:\n",
    "            circuit (qibo.models.Circuit): Circuit to transpile\n",
    "        Returns:\n",
    "            transpiled_circuit (qibo.models.Circuit): Transpiled circuit.\n",
    "            final_layout (dict): dict of connectivity?\n",
    "        \"\"\"\n",
    "        \n",
    "        # Define custom passes as a list\n",
    "        custom_passes = []\n",
    "        \n",
    "        # Preprocessing adds qubits in the original circuit to match the number of qubits in the chip\n",
    "        custom_passes.append(Preprocessing(connectivity=self.custom_connectivity(self.coupling_map)))\n",
    "    \n",
    "        # Placement step\n",
    "        custom_passes.append(Random(connectivity=self.custom_connectivity(self.coupling_map))) \n",
    "    \n",
    "        # Routing step\n",
    "        custom_passes.append(ShortestPaths(connectivity=self.custom_connectivity(self.coupling_map)))\n",
    "    \n",
    "        # custom_native_gates = [gates.I, gates.RZ, gates.SX, gates.X, gates.ECR]\n",
    "        custom_native_gates = [gates.I, gates.Z, gates.U3, gates.CZ]\n",
    "        custom_passes.append(Unroller(native_gates=NativeGates.from_gatelist(self.native_gates))) # Gate decomposition ste\n",
    "    \n",
    "        custom_pipeline = Passes(custom_passes, \n",
    "                                 connectivity=self.custom_connectivity(self.coupling_map),\n",
    "                                 native_gates=NativeGates.from_gatelist(self.native_gates)) \n",
    "                                # native_gates=NativeGates.default()\n",
    "    \n",
    "        transpiled_circuit, final_layout = custom_pipeline(circuit)\n",
    "    \n",
    "        return transpiled_circuit, final_layout\n",
    "\n",
    "    def execute_circuit(self,\n",
    "                        circuit,\n",
    "                        nshots=1000,\n",
    "                        **kwargs):\n",
    "        \"\"\"Executes a Qibo circuit on an AWS Braket device. The device defaults to the LocalSimulator().\n",
    "            \n",
    "        Args:\n",
    "            circuit (qibo.models.Circuit): circuit to execute on the Braket device.\n",
    "            nshots (int): Total number of shots.\n",
    "        Returns:\n",
    "            Measurement outcomes (qibo.measurement.MeasurementOutcomes): The outcome of the circuit execution.\n",
    "        \"\"\"\n",
    "        \n",
    "        measurements = circuit.measurements\n",
    "        if not measurements:\n",
    "            raise_error(RuntimeError, \"No measurement found in the provided circuit.\")\n",
    "        nqubits = circuit.nqubits\n",
    "        circuit_qasm = circuit.to_qasm()\n",
    "        circuit_qasm = self.remove_qelib1_inc(circuit_qasm)\n",
    "        circuit_qasm = self.qasm_convert_gates(circuit_qasm)\n",
    "        braket_circuit = BraketCircuit.from_ir(circuit_qasm)\n",
    "\n",
    "        if self.verbatim_circuit:\n",
    "            braket_circuit = BraketCircuit().add_verbatim_box(braket_circuit)\n",
    "        result = self.device.run(braket_circuit, shots=nshots).result()\n",
    "        samples = result.measurements\n",
    "        return MeasurementOutcomes(\n",
    "            measurements=measurements, backend=self, samples=samples, nshots=nshots\n",
    "        )\n"
   ]
  },
  {
   "cell_type": "markdown",
   "id": "e9a83cb4-5c3a-4615-83de-cccd54687626",
   "metadata": {},
   "source": [
    "# 00. Extracting native gates from device"
   ]
  },
  {
   "cell_type": "code",
   "execution_count": null,
   "id": "df43e3a7-66a5-4e53-9201-6b8bad5c2de0",
   "metadata": {},
   "outputs": [],
   "source": [
    "from braket.aws import AwsDevice\n",
    "from braket.devices import Devices, LocalSimulator\n",
    "\n",
    "# device = LocalSimulator()\n",
    "# device = 'arn:aws:braket:::device/quantum-simulator/amazon/sv1'\n",
    "device = 'arn:aws:braket:us-east-1::device/qpu/ionq/Aria-1'\n",
    "\n",
    "client = AwsDevice(device)\n",
    "print(client.properties.paradigm.nativeGateSet)\n",
    "print(client.properties)"
   ]
  },
  {
   "cell_type": "markdown",
   "id": "474b0701-5aa8-4e60-9751-c4cdc810a4ee",
   "metadata": {},
   "source": [
    "# 0. Running a circuit on AWS"
   ]
  },
  {
   "cell_type": "code",
   "execution_count": null,
   "id": "fbaa82f5-c8e3-4dc1-8fd7-8c433335c082",
   "metadata": {},
   "outputs": [],
   "source": [
    "from qibo import Circuit, gates\n",
    "import numpy as np\n",
    "\n",
    "circuit_qibo = Circuit(2)\n",
    "circuit_qibo.add(gates.RX(0, np.pi/7))\n",
    "circuit_qibo.add(gates.CNOT(1,0))\n",
    "circuit_qibo.add(gates.M(0))\n",
    "circuit_qibo.add(gates.M(1))\n",
    "print('>> Original circuit')\n",
    "print(circuit_qibo.draw())\n",
    "\n",
    "# SV1 = \"arn:aws:braket:::device/quantum-simulator/amazon/sv1\"\n",
    "# device = AwsDevice(SV1)\n",
    "device = LocalSimulator(\"braket_dm\")\n",
    "AWS = BraketClientBackend(device = device)\n",
    "\n",
    "out = AWS.execute_circuit(circuit_qibo, nshots=1000)\n",
    "print(out.probabilities())"
   ]
  },
  {
   "cell_type": "markdown",
   "id": "f608fe28-80a7-412e-ac04-868e316b0d04",
   "metadata": {},
   "source": [
    "# 1. Instantiate a quantum circuit"
   ]
  },
  {
   "cell_type": "code",
   "execution_count": null,
   "id": "01777d2a-6180-4654-bca2-4a3f80e48f41",
   "metadata": {},
   "outputs": [],
   "source": [
    "from qibo import Circuit, gates\n",
    "import numpy as np\n",
    "from qibo.backends import NumpyBackend\n",
    "from qibo.models.error_mitigation import get_noisy_circuit, ZNE\n",
    "from qibo.symbols import Z\n",
    "from qibo.hamiltonians import SymbolicHamiltonian\n",
    "from qibo.backends import GlobalBackend\n",
    "from qibo.noise import DepolarizingError, NoiseModel, ReadoutError\n",
    "\n",
    "circuit_qibo = Circuit(2)\n",
    "circuit_qibo.add(gates.RX(0, np.pi/7))\n",
    "circuit_qibo.add(gates.CNOT(1,0))\n",
    "circuit_qibo.add(gates.M(0))\n",
    "circuit_qibo.add(gates.M(1))\n",
    "print('>> Original circuit')\n",
    "print(circuit_qibo.draw())"
   ]
  },
  {
   "cell_type": "markdown",
   "id": "d3236082-bbba-4065-a263-6ca19b423909",
   "metadata": {
    "execution": {
     "iopub.execute_input": "2024-05-02T08:37:04.827958Z",
     "iopub.status.busy": "2024-05-02T08:37:04.827393Z",
     "iopub.status.idle": "2024-05-02T08:37:04.834405Z",
     "shell.execute_reply": "2024-05-02T08:37:04.833360Z",
     "shell.execute_reply.started": "2024-05-02T08:37:04.827929Z"
    }
   },
   "source": [
    "# 2. noisy_circuit = get_noisy_circuit(...)"
   ]
  },
  {
   "cell_type": "code",
   "execution_count": null,
   "id": "d991c18b-786d-4746-ae80-ca6df14d5063",
   "metadata": {},
   "outputs": [],
   "source": [
    "noisy_circuit = get_noisy_circuit(circuit_qibo, num_insertions=5, insertion_gate = \"CNOT\")\n",
    "print(noisy_circuit.draw())"
   ]
  },
  {
   "cell_type": "markdown",
   "id": "55d77624-c6b4-49c1-9209-15f8607fed81",
   "metadata": {},
   "source": [
    "# 3. Transpile. Use BraketClientBackend.transpile_qibo_to_qibo.\n",
    "# Input native_gates, custom_coupling_map"
   ]
  },
  {
   "cell_type": "code",
   "execution_count": null,
   "id": "a5771d6f-a637-4c8d-b6e0-216ed3824c73",
   "metadata": {},
   "outputs": [],
   "source": [
    "custom_coupling_map = [[0, 1]]#, [1, 2], [2, 3]] # [[0, 1], [0, 7], [1, 2], [2, 3], [4, 3], [4, 5], [6, 5], [7, 6]]\n",
    "native_gates = [gates.I, gates.RZ, gates.U3, gates.CZ]\n",
    "\n",
    "# SV1 = 'arn:aws:braket:::device/quantum-simulator/amazon/sv1'\n",
    "# device = AwsDevice(SV1)\n",
    "device = LocalSimulator(\"braket_dm\")\n",
    "AWS = BraketClientBackend(device = device, verbatim_circuit=False, transpilation=True, native_gates=native_gates, coupling_map=custom_coupling_map)\n",
    "\n",
    "transpiled_circuit, _ = AWS.transpile_qibo_to_qibo(circuit_qibo)\n",
    "print('>> Transpiled circuit')\n",
    "print(transpiled_circuit.draw())\n"
   ]
  },
  {
   "cell_type": "markdown",
   "id": "7452bb44-710b-4a8d-aa52-e66b5a1c25f6",
   "metadata": {},
   "source": [
    "# 4. Set backend = BraketClientBackend"
   ]
  },
  {
   "cell_type": "markdown",
   "id": "7ff8506b-25ec-4590-a7f5-962c3a39b916",
   "metadata": {},
   "source": [
    "### a. Check that both original and transpiled circuit run properly on GlobalBackend()"
   ]
  },
  {
   "cell_type": "code",
   "execution_count": null,
   "id": "65108bad-9431-4eae-9a57-09f14b4a0fa1",
   "metadata": {},
   "outputs": [],
   "source": [
    "backend = GlobalBackend()\n",
    "\n",
    "res_original = backend.execute_circuit(circuit_qibo, nshots=1000)\n",
    "print(res_original.frequencies())\n",
    "\n",
    "res_transpiled = backend.execute_circuit(transpiled_circuit, nshots=1000)\n",
    "print(res_transpiled.frequencies())\n",
    "\n",
    "# dir(backend)"
   ]
  },
  {
   "cell_type": "markdown",
   "id": "3b004239-a099-4f45-bbac-1a24e91dab53",
   "metadata": {},
   "source": [
    "### b. Now try AWS"
   ]
  },
  {
   "cell_type": "code",
   "execution_count": null,
   "id": "d5040e02-a7ed-4c91-9052-cecba6470ed0",
   "metadata": {},
   "outputs": [],
   "source": [
    "backend = AWS\n",
    "\n",
    "res_original = backend.execute_circuit(circuit_qibo, nshots=1000)\n",
    "print(res_original.frequencies())\n",
    "\n",
    "res_transpiled = backend.execute_circuit(transpiled_circuit, nshots=1000)\n",
    "print(res_transpiled.frequencies())\n"
   ]
  },
  {
   "cell_type": "markdown",
   "id": "34e47f71-e3e2-4868-a9c3-7748cf8b34bb",
   "metadata": {},
   "source": [
    "### Manually compute expectation value"
   ]
  },
  {
   "cell_type": "code",
   "execution_count": null,
   "id": "f49a43b5-1dd4-46f0-8628-d0c2f3d5fc8c",
   "metadata": {},
   "outputs": [],
   "source": [
    "Zmatrix = gates.Z(0).matrix()\n",
    "ZZmatrix = np.kron(Zmatrix, Zmatrix)\n",
    "ZZdiag = np.real(np.diag(ZZmatrix))\n",
    "\n",
    "dict = {}\n",
    "for ii in range(2**circuit_qibo.nqubits):\n",
    "    dict[bin(ii)[2:].zfill(circuit_qibo.nqubits)] = 0\n",
    "for key, val in res_original.frequencies().items():\n",
    "    dict[key] = val/sum(res_original.frequencies().values())\n",
    "\n",
    "manual_expectation_val = 0\n",
    "for key, val in dict.items():\n",
    "    manual_expectation_val += val * int(ZZdiag[int(key, 2)])\n",
    "\n",
    "print('Manually computing expectation value of ZZ operators = %.6f' %manual_expectation_val)\n"
   ]
  },
  {
   "cell_type": "markdown",
   "id": "e6a9ab5f-3fec-4a94-b29b-231113ca0e9d",
   "metadata": {},
   "source": [
    "__Scenarios - failure:__\n",
    "\n",
    "1. This circuit will fail because `q0` is not used. Transpiled circuit needs to be contiguous.\n",
    "``` Python\n",
    "q0: ──────────────\n",
    "q1: ─U3─U3─Z─U3─M─\n",
    "q2: ───────o─M──── \n",
    "```\n",
    "Error message: `ValueError: Non-contiguous qubit indices supplied; qubit indices in a circuit must be contiguous.`\n",
    "\n",
    "2. This circuit will fail because of some mismatch in dimensions.\n",
    "``` Python\n",
    "q0: ────────────────U3─U3─Z─U3─M─\n",
    "q1: ─U3─Z─U3─o─U3─Z─U3────o─M────\n",
    "q2: ────o─U3─Z─U3─o──────────────\n",
    "q3: ─────────────────────────────\n",
    "```\n",
    "Error message: `ValueError: matmul: Input operand 1 has a mismatch in its core dimension 0, with gufunc signature (n?,k),(k,m?)->(n?,m?) (size 2 is different from 3)`\n",
    "\n",
    "__Scenario - success:__\n",
    "\n",
    "1. This scenario passes. The coupling map can't get any simpler: `custom_coupling_map = [[0, 1]]`\n",
    "``` Python\n",
    "q0: ─U3─U3─Z─U3─M─\n",
    "q1: ───────o─M────\n",
    "```"
   ]
  },
  {
   "cell_type": "markdown",
   "id": "d2ffb044-cafe-4d4e-b933-4604a47f0c84",
   "metadata": {},
   "source": [
    "# 5. Run ZNE with backend = BraketClientBackend"
   ]
  },
  {
   "cell_type": "code",
   "execution_count": null,
   "id": "a47b51ef-81c8-450d-936b-667ca979175f",
   "metadata": {},
   "outputs": [],
   "source": [
    "ZNE_circuit = transpiled_circuit # circuit_qibo\n",
    "quantum_state = ZNE_circuit.execute().state()\n",
    "\n",
    "obs = np.prod([Z(i) for i in range(ZNE_circuit.nqubits)])\n",
    "print(obs)\n",
    "obs_exact = SymbolicHamiltonian(obs, nqubits=ZNE_circuit.nqubits, backend=backend)\n",
    "print(obs_exact)\n",
    "obs = SymbolicHamiltonian(obs, backend=backend)\n",
    "print(obs)\n",
    "\n",
    "exact = obs_exact.expectation(quantum_state)\n",
    "state = backend.execute_circuit(ZNE_circuit, nshots=10000)\n",
    "\n",
    "print(state)"
   ]
  },
  {
   "cell_type": "code",
   "execution_count": null,
   "id": "9448d6ad-7619-4368-bf14-d82626c46858",
   "metadata": {},
   "outputs": [],
   "source": [
    "estimate = ZNE(\n",
    "    circuit=ZNE_circuit,\n",
    "    observable=obs,\n",
    "    noise_levels=np.array(range(5)),\n",
    "    noise_model=None,\n",
    "    nshots=100000,\n",
    "    solve_for_gammas=False,\n",
    "    insertion_gate=\"CNOT\",\n",
    "    readout=None,\n",
    "    backend=backend,\n",
    ")\n",
    "print('ZNE estimated expectation value = %.6f' %estimate)"
   ]
  },
  {
   "cell_type": "markdown",
   "id": "707ad9f8-d22d-4ddf-bf60-b8e18c3b16b0",
   "metadata": {},
   "source": [
    "# Running on a Braket device?\n",
    "### - Costs: DM1 & SV1: \\\\$0.075 per minute, TN1: \\\\$0.275 per minute\n",
    "### - Run time: "
   ]
  },
  {
   "cell_type": "code",
   "execution_count": null,
   "id": "19367544-5ff2-4399-bf8b-1ac02f5501df",
   "metadata": {},
   "outputs": [],
   "source": []
  },
  {
   "cell_type": "code",
   "execution_count": null,
   "id": "75aa4e60-4545-447b-9353-b5af97bdf59a",
   "metadata": {},
   "outputs": [],
   "source": []
  },
  {
   "cell_type": "code",
   "execution_count": null,
   "id": "e63c672c-fcc1-4092-8832-4105223582df",
   "metadata": {},
   "outputs": [],
   "source": []
  },
  {
   "cell_type": "code",
   "execution_count": null,
   "id": "a8d7847e-6308-4295-84a2-cf3c0f3664cd",
   "metadata": {},
   "outputs": [],
   "source": []
  },
  {
   "cell_type": "code",
   "execution_count": null,
   "id": "8aeed36a-d935-4f4a-8d6b-2ffc00484313",
   "metadata": {},
   "outputs": [],
   "source": []
  },
  {
   "cell_type": "code",
   "execution_count": null,
   "id": "e849fdc6-4668-42db-82ff-7963aa87803f",
   "metadata": {},
   "outputs": [],
   "source": []
  }
 ],
 "metadata": {
  "kernelspec": {
   "display_name": "Python 3 (ipykernel)",
   "language": "python",
   "name": "python3"
  },
  "language_info": {
   "codemirror_mode": {
    "name": "ipython",
    "version": 3
   },
   "file_extension": ".py",
   "mimetype": "text/x-python",
   "name": "python",
   "nbconvert_exporter": "python",
   "pygments_lexer": "ipython3",
   "version": "3.11.6"
  }
 },
 "nbformat": 4,
 "nbformat_minor": 5
}
