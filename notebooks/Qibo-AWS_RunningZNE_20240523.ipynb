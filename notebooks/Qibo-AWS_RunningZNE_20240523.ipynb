{
 "cells": [
  {
   "cell_type": "markdown",
   "id": "b1d65b17-d07a-46f1-8a4d-9e960ffad948",
   "metadata": {},
   "source": [
    "# How to get codes from #1326 and #1327 to work with Qibo in Jupyter notebook?"
   ]
  },
  {
   "cell_type": "markdown",
   "id": "02bdc575-7823-4447-b9fd-dd6e01eebd49",
   "metadata": {},
   "source": [
    "- IQM uses {identity, R, CZ} as native gates. R in Braket == Phase RX in Qiskit & Qibo. Phase RX gate is not implemented in main Qibo branch yet, it can be found in this PR: (https://github.com/qiboteam/qibo/pull/1326)\n",
    "- For ZNE testing, the code that does global unitary folding can be found in this PR: (https://github.com/qiboteam/qibo/pull/1327)\n",
    "- As a side note, how do we get these codes in the 2 PRs to work in a notebook?\n",
    "    - In virtual environment, do pip install qibo, and maybe jupyter notebook\n",
    "    - Go to /path/to/your/environment/lib/python-3.11/site-packages/qibo\n",
    "    - Replace /gates/gates.py, /gates/abstract.py, and /backends/npmatrices.py with those found in PR#1326\n",
    "    - Replace /models/error_mitigation.py* with those found in PR#1327. (*May need to remove \"from qibo.backends import _check_backend_and_local_state\" if an error pops up)"
   ]
  },
  {
   "cell_type": "code",
   "execution_count": 1,
   "id": "a67e8ecf-ca64-4c99-a104-329f62807379",
   "metadata": {
    "execution": {
     "iopub.execute_input": "2024-05-23T03:03:12.597823Z",
     "iopub.status.busy": "2024-05-23T03:03:12.597729Z",
     "iopub.status.idle": "2024-05-23T03:03:12.604051Z",
     "shell.execute_reply": "2024-05-23T03:03:12.603768Z",
     "shell.execute_reply.started": "2024-05-23T03:03:12.597813Z"
    }
   },
   "outputs": [
    {
     "data": {
      "text/html": [
       "<style>.jp-Cell { margin-left: -0% !important; }</style>"
      ],
      "text/plain": [
       "<IPython.core.display.HTML object>"
      ]
     },
     "metadata": {},
     "output_type": "display_data"
    },
    {
     "data": {
      "text/html": [
       "<style>.jp-Cell { width: 100% !important; }</style>"
      ],
      "text/plain": [
       "<IPython.core.display.HTML object>"
      ]
     },
     "metadata": {},
     "output_type": "display_data"
    }
   ],
   "source": [
    "from IPython.display import display, HTML\n",
    "display(HTML(\"<style>.jp-Cell { margin-left: -0% !important; }</style>\"))\n",
    "display(HTML(\"<style>.jp-Cell { width: 100% !important; }</style>\"))"
   ]
  },
  {
   "cell_type": "markdown",
   "id": "159cfe0f-951a-429e-bc15-0c1fbf9abfc8",
   "metadata": {},
   "source": [
    "# Import"
   ]
  },
  {
   "cell_type": "code",
   "execution_count": 2,
   "id": "836ca044-fb79-4cee-81d3-4fc1bbd38044",
   "metadata": {
    "execution": {
     "iopub.execute_input": "2024-05-23T03:03:12.604703Z",
     "iopub.status.busy": "2024-05-23T03:03:12.604501Z",
     "iopub.status.idle": "2024-05-23T03:03:25.278883Z",
     "shell.execute_reply": "2024-05-23T03:03:25.277746Z",
     "shell.execute_reply.started": "2024-05-23T03:03:12.604692Z"
    }
   },
   "outputs": [],
   "source": [
    "# some_file.py\n",
    "import sys\n",
    "# caution: path[0] is reserved for script path (or '' in REPL)\n",
    "sys.path.append('/Users/matt/Documents/GitHub/qibo-cloud-backends_AWS/src/qibo_cloud_backends/')\n",
    "\n",
    "from aws_client import BraketClientBackend"
   ]
  },
  {
   "cell_type": "markdown",
   "id": "7c8fcea3-7a78-4e03-873c-e3d75080c62e",
   "metadata": {},
   "source": [
    "# Latest aws_client.py"
   ]
  },
  {
   "cell_type": "code",
   "execution_count": 7,
   "id": "305b93bc-8c0b-4dcd-a590-157e202bb581",
   "metadata": {
    "execution": {
     "iopub.execute_input": "2024-05-23T00:49:28.841517Z",
     "iopub.status.busy": "2024-05-23T00:49:28.840232Z",
     "iopub.status.idle": "2024-05-23T00:49:28.872086Z",
     "shell.execute_reply": "2024-05-23T00:49:28.871571Z",
     "shell.execute_reply.started": "2024-05-23T00:49:28.841476Z"
    }
   },
   "outputs": [],
   "source": [
    "from qibo.backends import NumpyBackend\n",
    "from qibo.config import raise_error\n",
    "from qibo.result import MeasurementOutcomes, QuantumState\n",
    "from qibo import gates\n",
    "from qibo import Circuit as QiboCircuit\n",
    "from qibo.transpiler.pipeline import Passes, assert_transpiling\n",
    "from qibo.transpiler.optimizer import Preprocessing\n",
    "from qibo.transpiler.router import ShortestPaths\n",
    "from qibo.transpiler.unroller import Unroller, NativeGates\n",
    "from qibo.transpiler.placer import Random\n",
    "\n",
    "import re\n",
    "import importlib.util\n",
    "import sys\n",
    "import networkx as nx\n",
    "\n",
    "# Import Qiskit packages for transpiler\n",
    "from qiskit import transpile\n",
    "from qiskit import QuantumCircuit\n",
    "from qiskit.transpiler import CouplingMap\n",
    "from qiskit.circuit.random import random_circuit\n",
    "from qiskit import qasm2\n",
    "\n",
    "from braket.aws import AwsDevice, AwsQuantumTask\n",
    "from braket.circuits import Gate, observables\n",
    "from braket.circuits import Circuit as BraketCircuit\n",
    "from braket.devices import Devices, LocalSimulator\n",
    "\n",
    "_QASM_BRAKET_GATES = {\n",
    "    \"id\": \"i\",\n",
    "    \"cx\": \"cnot\",\n",
    "    \"sx\": \"v\",\n",
    "    \"sxdg\": \"vi\",\n",
    "    \"sdg\": \"si\",\n",
    "    \"tdg\": \"ti\",\n",
    "    \"u3\": \"U\",\n",
    "}\n",
    "\n",
    "class BraketClientBackend(NumpyBackend):\n",
    "    \"\"\"Backend for the remote execution of AWS circuits on the AWS backends.\n",
    "\n",
    "    Args:\n",
    "        device (str): The ARN of the Braket device. Defaults to Braket's statevector LocalSimulator, LocalSimulator(\"default\").\n",
    "                      Other devices are Braket's density matrix simulator, LocalSimulator(\"braket_dm\"), or any other\n",
    "                      QPUs.\n",
    "        verbatim_circuit (bool): If `True`, wrap the Braket circuit in a verbatim box to run it on the QPU\n",
    "                                 without any transpilation. Defaults to `False`.\n",
    "        transpilation (bool): If `True`, check for two additional arguments: native_gates and coupling_map.\n",
    "        native_gates: - For qibo transpiler:   (list, qibo.gates): e.g. [gates.I, gates.RZ, gates.SX, gates.X, gates.ECR]\n",
    "                      - For qiskit transpiler: (list, str):        e.g. ['ecr', 'i', 'rz', 'sx', 'x']\n",
    "        coupling_map (list, list): E.g. [[0, 1], [0, 7], [1, 2], [2, 3], [4, 3], [4, 5], [6, 5], [7, 6]]\n",
    "    \"\"\"\n",
    "\n",
    "    def __init__(self, device=None, verbatim_circuit=False, transpilation=False, native_gates=None, coupling_map=None):\n",
    "        super().__init__()\n",
    "        \n",
    "        self.verbatim_circuit = verbatim_circuit\n",
    "\n",
    "        self.transpilation = transpilation\n",
    "        if transpilation:\n",
    "            print('Transpile!')\n",
    "            if coupling_map is None:\n",
    "                raise_error(ValueError, \"Expected qubit_map. E.g. qubit_map = [[0, 1], [0, 7], [1, 2], [2, 3], [4, 3], [4, 5], [6, 5], [7, 6]]\")\n",
    "            else:\n",
    "                self.coupling_map = coupling_map\n",
    "            if native_gates is None:\n",
    "                raise_error(ValueError, \"Expected native gates for transpilation. E.g. native_gates = [gates.I, gates.RZ, gates.SX, gates.X, gates.ECR]\")\n",
    "            else:\n",
    "                self.native_gates = native_gates\n",
    "\n",
    "        \n",
    "        if device is None:\n",
    "            self.device = LocalSimulator(\"default\")\n",
    "            # self.device = LocalSimulator(\"braket_dm\")\n",
    "        else:\n",
    "            self.device = device\n",
    "        self.name = \"aws\"\n",
    "\n",
    "    def remove_qelib1_inc(self, qasm_string):\n",
    "        \"\"\"To remove the 'includes qe1lib.inc' from the OpenQASM string.\n",
    "\n",
    "        Args: \n",
    "            qasm_code (OpenQASM circuit, str): circuit given in the OpenQASM format.\n",
    "        Returns:\n",
    "            qasm_code (OpenQASM circuit, str): circuit given in the OpenQASM format.\n",
    "        \"\"\"\n",
    "        \n",
    "        # Remove the \"include \"qelib1.inc\";\\n\" line\n",
    "        modified_code = re.sub(r'include\\s+\"qelib1.inc\";\\n', '', qasm_string)\n",
    "        return modified_code\n",
    "    \n",
    "    def qasm_convert_gates(self, qasm_code):\n",
    "        \"\"\"To replace the notation for certain gates in OpenQAS.\n",
    "\n",
    "        Args: \n",
    "            qasm_code (OpenQASM circuit, str): circuit given in the OpenQASM format.\n",
    "        Returns:\n",
    "            qasm_code (OpenQASM circuit, str): circuit given in the OpenQASM format.\n",
    "        \"\"\"\n",
    "        \n",
    "        lines = qasm_code.split('\\n')\n",
    "        modified_code = \"\"\n",
    "        for line in lines:\n",
    "            for key in _QASM_BRAKET_GATES:\n",
    "                if key in line:\n",
    "                    line = line.replace(key, _QASM_BRAKET_GATES[key])\n",
    "                    break\n",
    "            modified_code += line + '\\n'\n",
    "        return modified_code\n",
    "\n",
    "    def custom_connectivity(self, coupling_map):\n",
    "        \"\"\"Converts a coupling map given in list form to a networkx graph. Returns networkx graph.\n",
    "    \n",
    "        Args:\n",
    "            coupling_map (list): E.g. [[0, 1], [0, 7], [1, 2], [2, 3], [4, 3], [4, 5], [6, 5], [7, 6]]\n",
    "        Returns:\n",
    "            graph (networkx graph): graph\n",
    "        \"\"\"\n",
    "        \n",
    "        graph = nx.Graph()\n",
    "        for connection in coupling_map:\n",
    "            q1, q2 = connection\n",
    "            graph.add_edge(q1, q2)\n",
    "        return graph\n",
    "\n",
    "    def transpile_qibo_to_qibo_with_qibo(self, circuit):\n",
    "        \"\"\"Transpiles a Qibo circuit with a specific topology specified by connectivity and custom_native_gates.\n",
    "            There is no option for optimization_level like Qiskit. Therefore, no gates will be collapsed.\n",
    "            Returns a Qibo circuit.\n",
    "    \n",
    "        Args:\n",
    "            circuit (qibo.models.Circuit): Circuit to transpile\n",
    "        Returns:\n",
    "            transpiled_circuit (qibo.models.Circuit): Transpiled circuit.\n",
    "            final_layout (dict): dict of connectivity?\n",
    "        \"\"\"\n",
    "        \n",
    "        # Define custom passes as a list\n",
    "        custom_passes = []\n",
    "        \n",
    "        # Preprocessing adds qubits in the original circuit to match the number of qubits in the chip\n",
    "        custom_passes.append(Preprocessing(connectivity=self.custom_connectivity(self.coupling_map)))\n",
    "    \n",
    "        # Placement step\n",
    "        custom_passes.append(Random(connectivity=self.custom_connectivity(self.coupling_map))) \n",
    "    \n",
    "        # Routing step\n",
    "        custom_passes.append(ShortestPaths(connectivity=self.custom_connectivity(self.coupling_map)))\n",
    "    \n",
    "        # custom_native_gates = [gates.I, gates.RZ, gates.SX, gates.X, gates.ECR]\n",
    "        custom_native_gates = [gates.I, gates.Z, gates.U3, gates.CZ]\n",
    "        custom_passes.append(Unroller(native_gates=NativeGates.from_gatelist(self.native_gates))) # Gate decomposition ste\n",
    "    \n",
    "        custom_pipeline = Passes(custom_passes, \n",
    "                                 connectivity=self.custom_connectivity(self.coupling_map),\n",
    "                                 native_gates=NativeGates.from_gatelist(self.native_gates)) \n",
    "                                # native_gates=NativeGates.default()\n",
    "    \n",
    "        transpiled_circuit, final_layout = custom_pipeline(circuit)\n",
    "    \n",
    "        return transpiled_circuit, final_layout\n",
    "\n",
    "    def transpile_qasm_circuit_with_qiskit(self, circuit_qasm, native_gates, custom_coupling_map, optimization_level=1):\n",
    "        \"\"\"Transpiles a circuit given in OpenQASM format using Qiskit's transpiler.\n",
    "            Returns a transpiled circuit given in OpenQASM format.\n",
    "\n",
    "        Args:\n",
    "            circuit_qasm (OpenQASM circuit, str): circuit given in the OpenQASM format.\n",
    "            native_gates (list, str): A list of strings representing the native gates of the QPU.\n",
    "                e.g. native_gates = ['ecr', 'i', 'rz', 'sx', 'x']\n",
    "            custom_coupling_map (list, list): A list containing lists representing the connectivity of the qubits.\n",
    "                e.g. custom_coupling_map. E.g. [[0, 1], [1, 2], [2, 3]]\n",
    "            optimization_level (int): Optimization level for Qiskit's transpiler. Range is from 0 to 3. Defaults to 1.\n",
    "\n",
    "        Returns:\n",
    "            transpiled_circuit_qasm (OpenQASM circuit, str): Transpiled circuit in the OpenQASM format.\n",
    "        \"\"\"\n",
    "\n",
    "        self.native_gates = native_gates\n",
    "        self.custom_coupling_map = custom_coupling_map\n",
    "\n",
    "        if optimization_level < 0 or optimization_level > 3:\n",
    "            raise_error(ValueError, \"Optimization_level is between 0 to 3.\")\n",
    "        if custom_coupling_map is None:\n",
    "            raise_error(ValueError, \"Expected custom_coupling_map. E.g. custom_coupling_map = [[0, 1], [1, 2], [2, 3]]\")\n",
    "        if native_gates is None:\n",
    "            raise_error(ValueError, \"Expected native gates for transpilation. E.g. native_gates = ['ecr', 'i', 'rz', 'sx', 'x']\")\n",
    "\n",
    "        # Convert to Qiskit circuit for transpilation\n",
    "        circuit_qiskit = QuantumCircuit.from_qasm_str(circuit_qasm)\n",
    "        transpiled_circuit = transpile(circuit_qiskit,\n",
    "                                       basis_gates = self.native_gates,\n",
    "                                       optimization_level = self.optimization_level,\n",
    "                                       coupling_map = self.custom_coupling_map)\n",
    "        transpiled_circuit_qasm = qasm2.dumps(transpiled_circuit) # Convert back to qasm.\n",
    "        return transpiled_circuit_qasm\n",
    "\n",
    "    def transpile_qibo_to_braket_with_qiskit(self, circuit_qibo, optimization_level=1):\n",
    "        \"\"\"Transpiles a Qibo circuit using Qiskit's transpiler. Returns a Braket circuit.\n",
    "    \n",
    "        Args:\n",
    "            circuit_qibo (qibo.models.Circuit): Qibo circuit to transpile.\n",
    "            native_gates (list, str): A list of strings representing the native gates of the QPU.\n",
    "                e.g. native_gates = ['ecr', 'i', 'rz', 'sx', 'x']\n",
    "            custom_coupling_map (list, list): A list containing lists representing the connectivity of the qubits.\n",
    "                e.g. custom_coupling_map. E.g. [[0, 1], [1, 2], [2, 3]]\n",
    "            optimization_level (int): Optimization level for Qiskit's transpiler. Range is from 0 to 3. Defaults to 1.\n",
    "    \n",
    "        Returns:\n",
    "            transpiled_circuit_braket (braket.circuits.Circuit): Braket circuit to that has been transpiled.\n",
    "        \"\"\"\n",
    "\n",
    "        print('Transpile qibo to braket using qiskit')\n",
    "        \n",
    "        if optimization_level < 0 or optimization_level > 3:\n",
    "            raise_error(ValueError, \"Optimization_level is between 0 to 3.\")\n",
    "        else:\n",
    "            self.optimization_level = optimization_level\n",
    "        if custom_coupling_map is None:\n",
    "            raise_error(ValueError, \"Expected custom_coupling_map. E.g. custom_coupling_map = [[0, 1], [1, 2], [2, 3]]\")\n",
    "        if native_gates is None:\n",
    "            raise_error(ValueError, \"Expected native gates for transpilation. E.g. native_gates = ['ecr', 'i', 'rz', 'sx', 'x']\")\n",
    "\n",
    "        circuit_qasm = circuit_qibo.to_qasm()\n",
    "        circuit_qiskit = QuantumCircuit.from_qasm_str(circuit_qasm)\n",
    "        transpiled_circuit = transpile(circuit_qiskit,\n",
    "                                       basis_gates = self.native_gates,\n",
    "                                       optimization_level = self.optimization_level,\n",
    "                                       coupling_map = self.coupling_map)\n",
    "        transpiled_circuit_qasm = qasm2.dumps(transpiled_circuit) # Convert back to qasm.\n",
    "        transpiled_circuit_qasm = self.remove_qelib1_inc(transpiled_circuit_qasm)\n",
    "        transpiled_circuit_qasm = self.qasm_convert_gates(transpiled_circuit_qasm)\n",
    "        braket_circuit = BraketCircuit.from_ir(transpiled_circuit_qasm)\n",
    "        return braket_circuit\n",
    "\n",
    "    def transpile_qibo_to_qibo_with_qiskit(self, circuit_qibo, optimization_level=1):\n",
    "        \"\"\"Transpiles a Qibo circuit using Qiskit's transpiler. Returns a Qibo circuit.\n",
    "    \n",
    "        Args:\n",
    "            circuit_qibo (qibo.models.Circuit): Qibo circuit to transpile.\n",
    "            native_gates (list, str): A list of strings representing the native gates of the QPU.\n",
    "                e.g. native_gates = ['ecr', 'i', 'rz', 'sx', 'x']\n",
    "            custom_coupling_map (list, list): A list containing lists representing the connectivity of the qubits.\n",
    "                e.g. custom_coupling_map. E.g. [[0, 1], [1, 2], [2, 3]]\n",
    "            optimization_level (int): Optimization level for Qiskit's transpiler. Range is from 0 to 3. Defaults to 1.\n",
    "    \n",
    "        Returns:\n",
    "            transpiled_circuit_qibo (qibo.models.Circuit): Qibo circuit that has been transpiled.\n",
    "        \"\"\"\n",
    "\n",
    "        print('Transpile qibo to qibo using qiskit transpiler')\n",
    "        \n",
    "        if optimization_level < 0 or optimization_level > 3:\n",
    "            raise_error(ValueError, \"Optimization_level is between 0 to 3.\")\n",
    "        else:\n",
    "            self.optimization_level = optimization_level\n",
    "        if self.coupling_map is None:\n",
    "            raise_error(ValueError, \"Expected custom_coupling_map. E.g. custom_coupling_map = [[0, 1], [1, 2], [2, 3]]\")\n",
    "        if self.native_gates is None:\n",
    "            raise_error(ValueError, \"Expected native gates for transpilation. E.g. native_gates = ['ecr', 'i', 'rz', 'sx', 'x']\")\n",
    "\n",
    "        circuit_qasm = circuit_qibo.to_qasm()\n",
    "        circuit_qiskit = QuantumCircuit.from_qasm_str(circuit_qasm)\n",
    "        transpiled_circuit = transpile(circuit_qiskit,\n",
    "                                       basis_gates = self.native_gates,\n",
    "                                       optimization_level = self.optimization_level,\n",
    "                                       coupling_map = self.coupling_map)\n",
    "        transpiled_circuit_qasm = qasm2.dumps(transpiled_circuit) # Convert back to qasm.\n",
    "        transpiled_circuit_qibo = QiboCircuit.from_qasm(transpiled_circuit_qasm)\n",
    "        return transpiled_circuit_qibo\n",
    "\n",
    "    def execute_circuit(self,\n",
    "                        circuit,\n",
    "                        nshots=1000,\n",
    "                        **kwargs):\n",
    "        \"\"\"Executes a Qibo circuit on an AWS Braket device. The device defaults to the LocalSimulator().\n",
    "            \n",
    "        Args:\n",
    "            circuit (qibo.models.Circuit): circuit to execute on the Braket device.\n",
    "            nshots (int): Total number of shots.\n",
    "        Returns:\n",
    "            Measurement outcomes (qibo.measurement.MeasurementOutcomes): The outcome of the circuit execution.\n",
    "        \"\"\"\n",
    "        \n",
    "        measurements = circuit.measurements\n",
    "        if not measurements:\n",
    "            raise_error(RuntimeError, \"No measurement found in the provided circuit.\")\n",
    "        nqubits = circuit.nqubits\n",
    "        circuit_qasm = circuit.to_qasm()\n",
    "        circuit_qasm = self.remove_qelib1_inc(circuit_qasm)\n",
    "        circuit_qasm = self.qasm_convert_gates(circuit_qasm)\n",
    "        braket_circuit = BraketCircuit.from_ir(circuit_qasm)\n",
    "\n",
    "        if self.verbatim_circuit:\n",
    "            braket_circuit = BraketCircuit().add_verbatim_box(braket_circuit)\n",
    "        result = self.device.run(braket_circuit, shots=nshots).result()\n",
    "        samples = result.measurements\n",
    "\n",
    "        return MeasurementOutcomes(\n",
    "            measurements=measurements, backend=self, samples=samples, nshots=nshots\n",
    "        )\n"
   ]
  },
  {
   "cell_type": "code",
   "execution_count": 3,
   "id": "a515ba06-3102-4f76-8fe9-de91a53d95fb",
   "metadata": {
    "execution": {
     "iopub.execute_input": "2024-05-23T00:38:27.970904Z",
     "iopub.status.busy": "2024-05-23T00:38:27.969682Z",
     "iopub.status.idle": "2024-05-23T00:38:27.976964Z",
     "shell.execute_reply": "2024-05-23T00:38:27.976251Z",
     "shell.execute_reply.started": "2024-05-23T00:38:27.970869Z"
    }
   },
   "outputs": [],
   "source": [
    "# circuit_qibo = Circuit(2)\n",
    "# circuit_qibo.add(gates.RX(0, np.pi/7))\n",
    "# circuit_qibo.add(gates.CNOT(1,0))\n",
    "# circuit_qibo.add(gates.M(0))\n",
    "# circuit_qibo.add(gates.M(1))\n",
    "\n",
    "# circuit_qasm = circuit_qibo.to_qasm()\n",
    "# circuit_qiskit = QuantumCircuit.from_qasm_str(circuit_qasm)\n",
    "\n",
    "# # from qiskit.transpiler.preset_passmanagers import generate_preset_pass_manager\n",
    "\n",
    "# # pm = generate_preset_pass_manager(backend=AWS, optimization_level=1)\n",
    "# # isa_qc = pm.run(qc)"
   ]
  },
  {
   "cell_type": "markdown",
   "id": "e9a83cb4-5c3a-4615-83de-cccd54687626",
   "metadata": {},
   "source": [
    "# 00. Extracting native gates from device"
   ]
  },
  {
   "cell_type": "code",
   "execution_count": null,
   "id": "df43e3a7-66a5-4e53-9201-6b8bad5c2de0",
   "metadata": {},
   "outputs": [],
   "source": [
    "from braket.aws import AwsDevice\n",
    "from braket.devices import Devices, LocalSimulator\n",
    "\n",
    "device = LocalSimulator()\n",
    "# device = 'arn:aws:braket:::device/quantum-simulator/amazon/sv1'\n",
    "# device = 'arn:aws:braket:us-east-1::device/qpu/ionq/Aria-1'\n",
    "\n",
    "client = AwsDevice(device)\n",
    "print(client.properties.paradigm.nativeGateSet)\n",
    "# print(client.properties)\n"
   ]
  },
  {
   "cell_type": "markdown",
   "id": "474b0701-5aa8-4e60-9751-c4cdc810a4ee",
   "metadata": {},
   "source": [
    "# 0. Running a circuit on AWS"
   ]
  },
  {
   "cell_type": "code",
   "execution_count": null,
   "id": "fbaa82f5-c8e3-4dc1-8fd7-8c433335c082",
   "metadata": {},
   "outputs": [],
   "source": [
    "from qibo import Circuit, gates\n",
    "import numpy as np\n",
    "from braket.aws import AwsDevice\n",
    "from braket.devices import Devices, LocalSimulator\n",
    "\n",
    "circuit_qibo = Circuit(2)\n",
    "circuit_qibo.add(gates.RX(0, np.pi/7))\n",
    "circuit_qibo.add(gates.CNOT(1,0))\n",
    "circuit_qibo.add(gates.M(0))\n",
    "circuit_qibo.add(gates.M(1))\n",
    "print('>> Original circuit')\n",
    "print(circuit_qibo.draw())\n",
    "\n",
    "# SV1 = \"arn:aws:braket:::device/quantum-simulator/amazon/sv1\"\n",
    "# device = AwsDevice(SV1)\n",
    "device = LocalSimulator(\"braket_dm\")\n",
    "AWS = BraketClientBackend(device = device)\n",
    "\n",
    "out = AWS.execute_circuit(circuit_qibo, nshots=1000)\n",
    "print(out.frequencies())"
   ]
  },
  {
   "cell_type": "markdown",
   "id": "f608fe28-80a7-412e-ac04-868e316b0d04",
   "metadata": {},
   "source": [
    "# 1. Instantiate a quantum circuit"
   ]
  },
  {
   "cell_type": "code",
   "execution_count": 3,
   "id": "01777d2a-6180-4654-bca2-4a3f80e48f41",
   "metadata": {
    "execution": {
     "iopub.execute_input": "2024-05-23T03:03:29.929446Z",
     "iopub.status.busy": "2024-05-23T03:03:29.928582Z",
     "iopub.status.idle": "2024-05-23T03:03:29.950937Z",
     "shell.execute_reply": "2024-05-23T03:03:29.950194Z",
     "shell.execute_reply.started": "2024-05-23T03:03:29.929406Z"
    }
   },
   "outputs": [
    {
     "name": "stdout",
     "output_type": "stream",
     "text": [
      ">> Original circuit\n",
      "q0: ─RX─X─M─\n",
      "q1: ────o─M─\n"
     ]
    }
   ],
   "source": [
    "from qibo import Circuit, gates\n",
    "import numpy as np\n",
    "from qibo.backends import NumpyBackend\n",
    "from qibo.models.error_mitigation import get_noisy_circuit, ZNE\n",
    "# from qibo.models.error_mitigation import ZNE\n",
    "from qibo.symbols import Z\n",
    "from qibo.hamiltonians import SymbolicHamiltonian\n",
    "from qibo.backends import GlobalBackend\n",
    "from qibo.noise import DepolarizingError, NoiseModel, ReadoutError\n",
    "\n",
    "circuit_qibo = Circuit(2)\n",
    "circuit_qibo.add(gates.RX(0, np.pi/7))\n",
    "circuit_qibo.add(gates.CNOT(1,0))\n",
    "# circuit_qibo.add(gates.GPI(0, np.pi/3))# circuit_qibo.add(gates.M(0))\n",
    "# circuit_qibo.add(gates.GPI2(1, np.pi/3))# circuit_qibo.add(gates.M(0))\n",
    "# circuit_qibo.add(gates.MS(0, 1, np.pi/3, np.pi/4, np.pi/5))# circuit_qibo.add(gates.M(0))\n",
    "# circuit_qibo.add(gates.U3(0, 1, np.pi/3, np.pi/4, np.pi/5))\n",
    "circuit_qibo.add(gates.M(0))\n",
    "circuit_qibo.add(gates.M(1))\n",
    "print('>> Original circuit')\n",
    "print(circuit_qibo.draw())\n"
   ]
  },
  {
   "cell_type": "code",
   "execution_count": 80,
   "id": "e58e5180-c405-47de-93df-b95927e6a35c",
   "metadata": {
    "execution": {
     "iopub.execute_input": "2024-05-23T02:55:05.082780Z",
     "iopub.status.busy": "2024-05-23T02:55:05.082098Z",
     "iopub.status.idle": "2024-05-23T02:55:05.097557Z",
     "shell.execute_reply": "2024-05-23T02:55:05.095995Z",
     "shell.execute_reply.started": "2024-05-23T02:55:05.082745Z"
    }
   },
   "outputs": [],
   "source": [
    "from qibo.config import raise_error\n",
    "def get_noisy_circuit(circuit, num_insertions: int, global_unitary_folding=True, insertion_gate=None):\n",
    "    \"\"\"Standalone function to generate the noisy circuit with the inverse gate pairs insertions.\n",
    "\n",
    "    Args:\n",
    "        circuit (:class:`qibo.models.circuit.Circuit`): circuit to modify.\n",
    "        num_insertions (int): number of insertion gate pairs / global unitary folds to add.\n",
    "        global_unitary_folding (bool): Default True. Global unitary folding is carried out by default.\n",
    "            Global unitary folding takes precedence over insertion_gate.\n",
    "        insertion_gate (str, optional): gate to be used in the insertion.\n",
    "            If ``\"RX\"``, the gate used is :math:``RX(\\\\pi / 2)``.\n",
    "            Otherwise, the other gate is ``\"CNOT\"``.\n",
    "\n",
    "    Returns:\n",
    "        :class:`qibo.models.Circuit`: circuit with the inserted gate pairs or with global folding.\n",
    "    \"\"\"\n",
    "\n",
    "    if global_unitary_folding: # pragma: no cover\n",
    "        circuit_no_meas = circuit.__class__(**circuit.init_kwargs)\n",
    "        circuit_meas = circuit.__class__(**circuit.init_kwargs)\n",
    "        for gate in circuit.queue:\n",
    "            if gate.name != 'measure':\n",
    "                circuit_no_meas.add(gate)\n",
    "            else:\n",
    "                circuit_meas.add(gate)\n",
    "        \n",
    "        noisy_circuit = circuit.__class__(**circuit.init_kwargs)\n",
    "        noisy_circuit = circuit_no_meas\n",
    "        for _ in range(num_insertions):\n",
    "            noisy_circuit += circuit_no_meas.invert() + circuit_no_meas\n",
    "\n",
    "        noisy_circuit += circuit_meas\n",
    "        \n",
    "    else:\n",
    "        if insertion_gate is None or insertion_gate not in (\"CNOT\", \"RX\"):  # pragma: no cover\n",
    "                raise_error(\n",
    "                    ValueError,\n",
    "                    \"Invalid insertion gate specification. Please select between 'CNOT' and 'RX'.\",\n",
    "                    )\n",
    "        if insertion_gate == \"CNOT\" and circuit.nqubits < 2:  # pragma: no cover\n",
    "            raise_error(\n",
    "                ValueError,\n",
    "                \"Provide a circuit with at least 2 qubits when using the 'CNOT' insertion gate. \"\n",
    "                + \"Alternatively, try with the 'RX' insertion gate instead.\",\n",
    "            )\n",
    "    \n",
    "        i_gate = gates.CNOT if insertion_gate == \"CNOT\" else gates.RX\n",
    "    \n",
    "        theta = np.pi / 2\n",
    "        noisy_circuit = circuit.__class__(**circuit.init_kwargs)\n",
    "    \n",
    "        for gate in circuit.queue:\n",
    "            noisy_circuit.add(gate)\n",
    "    \n",
    "            if isinstance(gate, i_gate):\n",
    "                if insertion_gate == \"CNOT\":\n",
    "                    control = gate.control_qubits[0]\n",
    "                    target = gate.target_qubits[0]\n",
    "                    for _ in range(num_insertions):\n",
    "                        noisy_circuit.add(gates.CNOT(control, target))\n",
    "                        noisy_circuit.add(gates.CNOT(control, target))\n",
    "                elif gate.init_kwargs[\"theta\"] == theta:\n",
    "                    qubit = gate.qubits[0]\n",
    "                    for _ in range(num_insertions):\n",
    "                        noisy_circuit.add(gates.RX(qubit, theta=theta))\n",
    "                        noisy_circuit.add(gates.RX(qubit, theta=-theta))\n",
    "    \n",
    "    return noisy_circuit"
   ]
  },
  {
   "cell_type": "markdown",
   "id": "d3236082-bbba-4065-a263-6ca19b423909",
   "metadata": {
    "execution": {
     "iopub.execute_input": "2024-05-02T08:37:04.827958Z",
     "iopub.status.busy": "2024-05-02T08:37:04.827393Z",
     "iopub.status.idle": "2024-05-02T08:37:04.834405Z",
     "shell.execute_reply": "2024-05-02T08:37:04.833360Z",
     "shell.execute_reply.started": "2024-05-02T08:37:04.827929Z"
    }
   },
   "source": [
    "# 2. noisy_circuit = get_noisy_circuit(...)"
   ]
  },
  {
   "cell_type": "code",
   "execution_count": 7,
   "id": "d991c18b-786d-4746-ae80-ca6df14d5063",
   "metadata": {
    "execution": {
     "iopub.execute_input": "2024-05-23T03:03:43.982465Z",
     "iopub.status.busy": "2024-05-23T03:03:43.981771Z",
     "iopub.status.idle": "2024-05-23T03:03:43.990959Z",
     "shell.execute_reply": "2024-05-23T03:03:43.988930Z",
     "shell.execute_reply.started": "2024-05-23T03:03:43.982433Z"
    }
   },
   "outputs": [
    {
     "name": "stdout",
     "output_type": "stream",
     "text": [
      "q0: ─RX─X─X─RX─RX─X─X─RX─RX─X─X─RX─RX─X─M─\n",
      "q1: ────o─o───────o─o───────o─o───────o─M─\n"
     ]
    }
   ],
   "source": [
    "noisy_circuit = get_noisy_circuit(circuit_qibo, num_insertions = 3, global_unitary_folding=True, insertion_gate='CNOT')\n",
    "print(noisy_circuit.draw())\n"
   ]
  },
  {
   "cell_type": "markdown",
   "id": "55d77624-c6b4-49c1-9209-15f8607fed81",
   "metadata": {},
   "source": [
    "# 3. Transpile. Use BraketClientBackend.transpile_qibo_to_qibo.\n",
    "# Input native_gates, custom_coupling_map"
   ]
  },
  {
   "cell_type": "markdown",
   "id": "1a856462-42a9-44d8-b11b-b8eec09a037e",
   "metadata": {},
   "source": [
    "### a. qiskit_ionq package for native gates"
   ]
  },
  {
   "cell_type": "code",
   "execution_count": 61,
   "id": "4586cd9c-4667-4549-8e7b-49e472d8085c",
   "metadata": {
    "execution": {
     "iopub.execute_input": "2024-05-23T01:43:04.082982Z",
     "iopub.status.busy": "2024-05-23T01:43:04.082447Z",
     "iopub.status.idle": "2024-05-23T01:43:04.092949Z",
     "shell.execute_reply": "2024-05-23T01:43:04.092217Z",
     "shell.execute_reply.started": "2024-05-23T01:43:04.082956Z"
    }
   },
   "outputs": [
    {
     "data": {
      "text/plain": [
       "<qiskit.circuit.instructionset.InstructionSet at 0x1773e2b90>"
      ]
     },
     "execution_count": 61,
     "metadata": {},
     "output_type": "execute_result"
    }
   ],
   "source": [
    "from qiskit_ionq import GPIGate, GPI2Gate, MSGate\n",
    "from qiskit import QuantumCircuit\n",
    "from qiskit import qasm2\n",
    "from qiskit.quantum_info import Operator\n",
    "\n",
    "cc = QuantumCircuit(3)\n",
    "\n",
    "cc.append(GPIGate(1.234), [0])\n",
    "# cc.append(GPI2Gate(1.234), [0])\n",
    "# cc.append(MSGate(1, 2, 3), [0, 2])\n",
    "\n",
    "# print(qasm2.dumps(cc))\n",
    "# operator = Operator(cc)\n",
    "# print(operator.data)"
   ]
  },
  {
   "cell_type": "code",
   "execution_count": null,
   "id": "b87be289-d6ba-4fbf-ac59-94586ed4b26e",
   "metadata": {},
   "outputs": [],
   "source": [
    "cc.draw('mpl')"
   ]
  },
  {
   "cell_type": "code",
   "execution_count": null,
   "id": "e19be2a7-2fd1-4ed1-b315-7735f2de2141",
   "metadata": {},
   "outputs": [],
   "source": [
    "print(GPIGate)"
   ]
  },
  {
   "cell_type": "markdown",
   "id": "ef2d7c2f-8f2f-48b5-9c56-8a9f17289fb1",
   "metadata": {},
   "source": [
    "### b. Apply native gates"
   ]
  },
  {
   "cell_type": "code",
   "execution_count": 53,
   "id": "a5771d6f-a637-4c8d-b6e0-216ed3824c73",
   "metadata": {
    "execution": {
     "iopub.execute_input": "2024-05-23T01:40:29.727716Z",
     "iopub.status.busy": "2024-05-23T01:40:29.727294Z",
     "iopub.status.idle": "2024-05-23T01:40:29.754808Z",
     "shell.execute_reply": "2024-05-23T01:40:29.754401Z",
     "shell.execute_reply.started": "2024-05-23T01:40:29.727691Z"
    }
   },
   "outputs": [
    {
     "name": "stdout",
     "output_type": "stream",
     "text": [
      "Transpile!\n",
      "Transpile qibo to qibo using qiskit transpiler\n",
      "\n",
      ">> Original circuit\n",
      "q0: ─RX─X─M─\n",
      "q1: ────o─M─\n",
      "\n",
      ">> Transpiled circuit\n",
      "q0: ─RZ─SX─RZ─o─RZ─SX─RZ─M─\n",
      "q1: ──────────Z─M──────────\n",
      "q2: ───────────────────────\n",
      "q3: ───────────────────────\n",
      "q4: ───────────────────────\n",
      "q5: ───────────────────────\n",
      "q6: ───────────────────────\n",
      "q7: ───────────────────────\n"
     ]
    }
   ],
   "source": [
    "custom_coupling_map = [[0, 1], [0, 7], [1, 2], [2, 3], [4, 3], [4, 5], [6, 5], [7, 6]]\n",
    "# custom_coupling_map = [[0, 1], [0, 2]]\n",
    "# native_gates = ['GPIGate', 'GPI2Gate', 'MSGate']\n",
    "# native_gates = [\"i\", \"rz\", \"sx\", \"x\", \"ecr\"]\n",
    "native_gates = [\"i\", \"rz\", \"sx\", \"x\", \"cz\"]\n",
    "\n",
    "\n",
    "# qiskit.circuit.library.GMS(num_qubits, theta)\n",
    "\n",
    "# device = AwsDevice('arn:aws:braket:::device/quantum-simulator/amazon/sv1')\n",
    "device = LocalSimulator(\"braket_dm\")\n",
    "# device = 'arn:aws:braket:us-east-1::device/qpu/ionq/Aria-1'\n",
    "AWS = BraketClientBackend(device = device, verbatim_circuit=False, transpilation=True, native_gates=native_gates, coupling_map=custom_coupling_map)\n",
    "\n",
    "try:\n",
    "    transpiled_circuit = AWS.transpile_qibo_to_qibo_with_qiskit(noisy_circuit)\n",
    "    \n",
    "    print('\\n>> Original circuit')\n",
    "    print(circuit_qibo.draw())\n",
    "    \n",
    "    print('\\n>> Transpiled circuit')\n",
    "    print(transpiled_circuit.draw())\n",
    "\n",
    "except Exception as e:\n",
    "    print(f\"Error! {e}\")\n"
   ]
  },
  {
   "cell_type": "markdown",
   "id": "7452bb44-710b-4a8d-aa52-e66b5a1c25f6",
   "metadata": {},
   "source": [
    "# 4. Set backend = BraketClientBackend"
   ]
  },
  {
   "cell_type": "markdown",
   "id": "7ff8506b-25ec-4590-a7f5-962c3a39b916",
   "metadata": {},
   "source": [
    "### a. Check that both original and transpiled circuit run properly on GlobalBackend()"
   ]
  },
  {
   "cell_type": "code",
   "execution_count": 54,
   "id": "65108bad-9431-4eae-9a57-09f14b4a0fa1",
   "metadata": {
    "execution": {
     "iopub.execute_input": "2024-05-23T01:41:05.401201Z",
     "iopub.status.busy": "2024-05-23T01:41:05.400814Z",
     "iopub.status.idle": "2024-05-23T01:41:05.410433Z",
     "shell.execute_reply": "2024-05-23T01:41:05.408573Z",
     "shell.execute_reply.started": "2024-05-23T01:41:05.401177Z"
    }
   },
   "outputs": [
    {
     "name": "stdout",
     "output_type": "stream",
     "text": [
      "Counter({'00': 949, '10': 51})\n",
      "Counter({'00': 951, '10': 49})\n"
     ]
    }
   ],
   "source": [
    "backend = GlobalBackend()\n",
    "\n",
    "res_original = backend.execute_circuit(circuit_qibo, nshots=1000)\n",
    "print(res_original.frequencies())\n",
    "\n",
    "res_transpiled = backend.execute_circuit(transpiled_circuit, nshots=1000)\n",
    "print(res_transpiled.frequencies())"
   ]
  },
  {
   "cell_type": "markdown",
   "id": "3b004239-a099-4f45-bbac-1a24e91dab53",
   "metadata": {},
   "source": [
    "### b. Now try AWS"
   ]
  },
  {
   "cell_type": "code",
   "execution_count": 68,
   "id": "d5040e02-a7ed-4c91-9052-cecba6470ed0",
   "metadata": {
    "execution": {
     "iopub.execute_input": "2024-05-23T01:48:41.407193Z",
     "iopub.status.busy": "2024-05-23T01:48:41.406854Z",
     "iopub.status.idle": "2024-05-23T01:48:41.443185Z",
     "shell.execute_reply": "2024-05-23T01:48:41.442704Z",
     "shell.execute_reply.started": "2024-05-23T01:48:41.407170Z"
    }
   },
   "outputs": [
    {
     "name": "stdout",
     "output_type": "stream",
     "text": [
      "Counter({'00': 948, '10': 52})\n",
      "Counter({'00': 927, '10': 73})\n"
     ]
    },
    {
     "name": "stderr",
     "output_type": "stream",
     "text": [
      "/Users/matt/Envs/AWS_latest_qibo_qiskit_braket/lib/python3.11/site-packages/braket/default_simulator/simulator.py:328: UserWarning: You are running a noise-free circuit on the density matrix simulator. Consider running this circuit on the state vector simulator: LocalSimulator(\"default\") for a better user experience.\n",
      "  warnings.warn(\n"
     ]
    }
   ],
   "source": [
    "backend = AWS\n",
    "\n",
    "res_original = backend.execute_circuit(circuit_qibo, nshots=1000)\n",
    "print(res_original.frequencies())\n",
    "\n",
    "res_transpiled = backend.execute_circuit(transpiled_circuit, nshots=1000)\n",
    "print(res_transpiled.frequencies())\n"
   ]
  },
  {
   "cell_type": "markdown",
   "id": "34e47f71-e3e2-4868-a9c3-7748cf8b34bb",
   "metadata": {},
   "source": [
    "### Manually compute expectation value"
   ]
  },
  {
   "cell_type": "code",
   "execution_count": 64,
   "id": "f49a43b5-1dd4-46f0-8628-d0c2f3d5fc8c",
   "metadata": {
    "execution": {
     "iopub.execute_input": "2024-05-23T01:48:10.224805Z",
     "iopub.status.busy": "2024-05-23T01:48:10.224216Z",
     "iopub.status.idle": "2024-05-23T01:48:10.233048Z",
     "shell.execute_reply": "2024-05-23T01:48:10.231744Z",
     "shell.execute_reply.started": "2024-05-23T01:48:10.224778Z"
    }
   },
   "outputs": [
    {
     "name": "stdout",
     "output_type": "stream",
     "text": [
      "Manually computing expectation value of ZZ operators = 0.904000\n"
     ]
    }
   ],
   "source": [
    "Zmatrix = gates.Z(0).matrix()\n",
    "ZZmatrix = np.kron(Zmatrix, Zmatrix)\n",
    "ZZdiag = np.real(np.diag(ZZmatrix))\n",
    "\n",
    "dict = {}\n",
    "for ii in range(2**circuit_qibo.nqubits):\n",
    "    dict[bin(ii)[2:].zfill(circuit_qibo.nqubits)] = 0\n",
    "for key, val in res_original.frequencies().items():\n",
    "    dict[key] = val/sum(res_original.frequencies().values())\n",
    "\n",
    "manual_expectation_val = 0\n",
    "for key, val in dict.items():\n",
    "    manual_expectation_val += val * int(ZZdiag[int(key, 2)])\n",
    "\n",
    "print('Manually computing expectation value of ZZ operators = %.6f' %manual_expectation_val)\n"
   ]
  },
  {
   "cell_type": "markdown",
   "id": "e6a9ab5f-3fec-4a94-b29b-231113ca0e9d",
   "metadata": {},
   "source": [
    "__Scenarios - failure:__\n",
    "\n",
    "1. This circuit will fail because `q0` is not used. Transpiled circuit needs to be contiguous.\n",
    "``` Python\n",
    "q0: ──────────────\n",
    "q1: ─U3─U3─Z─U3─M─\n",
    "q2: ───────o─M──── \n",
    "```\n",
    "Error message: `ValueError: Non-contiguous qubit indices supplied; qubit indices in a circuit must be contiguous.` (AWS device error)\n",
    "\n",
    "2. This circuit will fail because of some mismatch in dimensions.\n",
    "``` Python\n",
    "q0: ────────────────U3─U3─Z─U3─M─\n",
    "q1: ─U3─Z─U3─o─U3─Z─U3────o─M────\n",
    "q2: ────o─U3─Z─U3─o──────────────\n",
    "q3: ─────────────────────────────\n",
    "```\n",
    "Error message: `ValueError: matmul: Input operand 1 has a mismatch in its core dimension 0, with gufunc signature (n?,k),(k,m?)->(n?,m?) (size 2 is different from 3)` (Error translating back to Qibo) <-- <mark style=\"background-color: yellow\"> **Solution**: Update Qibo >= 0.2.6 </mark>\n",
    "\n",
    "__Scenario - success:__\n",
    "\n",
    "1. This scenario passes. The coupling map can't get any simpler: `custom_coupling_map = [[0, 1]]`\n",
    "``` Python\n",
    "q0: ─U3─U3─Z─U3─M─\n",
    "q1: ───────o─M────\n",
    "```"
   ]
  },
  {
   "cell_type": "markdown",
   "id": "d2ffb044-cafe-4d4e-b933-4604a47f0c84",
   "metadata": {},
   "source": [
    "# 5. Run ZNE with backend = BraketClientBackend"
   ]
  },
  {
   "cell_type": "code",
   "execution_count": 65,
   "id": "b167a4f7-12ed-43e1-87ce-1c7a413a5b07",
   "metadata": {
    "execution": {
     "iopub.execute_input": "2024-05-23T01:48:11.172009Z",
     "iopub.status.busy": "2024-05-23T01:48:11.171639Z",
     "iopub.status.idle": "2024-05-23T01:48:11.177722Z",
     "shell.execute_reply": "2024-05-23T01:48:11.176835Z",
     "shell.execute_reply.started": "2024-05-23T01:48:11.171986Z"
    }
   },
   "outputs": [
    {
     "name": "stdout",
     "output_type": "stream",
     "text": [
      "2\n"
     ]
    }
   ],
   "source": [
    "num_meas = 0\n",
    "for data in transpiled_circuit.raw['queue']:\n",
    "    if data['name'] == 'measure':\n",
    "        num_meas += 1 \n",
    "print(num_meas)"
   ]
  },
  {
   "cell_type": "code",
   "execution_count": 66,
   "id": "a47b51ef-81c8-450d-936b-667ca979175f",
   "metadata": {
    "execution": {
     "iopub.execute_input": "2024-05-23T01:48:11.565124Z",
     "iopub.status.busy": "2024-05-23T01:48:11.564699Z",
     "iopub.status.idle": "2024-05-23T01:48:11.577916Z",
     "shell.execute_reply": "2024-05-23T01:48:11.576816Z",
     "shell.execute_reply.started": "2024-05-23T01:48:11.565101Z"
    }
   },
   "outputs": [
    {
     "name": "stdout",
     "output_type": "stream",
     "text": [
      "Z0*Z1\n",
      "<qibo.hamiltonians.hamiltonians.SymbolicHamiltonian object at 0x170c3b110>\n",
      "<qibo.hamiltonians.hamiltonians.SymbolicHamiltonian object at 0x2855a9150>\n",
      "-0.97493j|00000000> + (-0.22252-0j)|10000000>\n"
     ]
    }
   ],
   "source": [
    "ZNE_circuit = transpiled_circuit # circuit_qibo\n",
    "quantum_state = ZNE_circuit.execute().state()\n",
    "\n",
    "# obs = np.prod([Z(i) for i in range(ZNE_circuit.nqubits-1)])\n",
    "obs = np.prod([Z(i) for i in range(num_meas)])\n",
    "print(obs)\n",
    "obs_exact = SymbolicHamiltonian(obs, nqubits=ZNE_circuit.nqubits, backend=backend)\n",
    "print(obs_exact)\n",
    "obs = SymbolicHamiltonian(obs, backend=backend)\n",
    "print(obs)\n",
    "\n",
    "exact = obs_exact.expectation(quantum_state)\n",
    "state = backend.execute_circuit(ZNE_circuit, nshots=10000)\n",
    "\n",
    "print(state)"
   ]
  },
  {
   "cell_type": "code",
   "execution_count": 67,
   "id": "9448d6ad-7619-4368-bf14-d82626c46858",
   "metadata": {
    "execution": {
     "iopub.execute_input": "2024-05-23T01:48:12.486660Z",
     "iopub.status.busy": "2024-05-23T01:48:12.486112Z",
     "iopub.status.idle": "2024-05-23T01:48:12.523466Z",
     "shell.execute_reply": "2024-05-23T01:48:12.523047Z",
     "shell.execute_reply.started": "2024-05-23T01:48:12.486623Z"
    }
   },
   "outputs": [
    {
     "name": "stdout",
     "output_type": "stream",
     "text": [
      "ZNE estimated expectation value = 0.899042\n"
     ]
    }
   ],
   "source": [
    "estimate = ZNE(\n",
    "    circuit=ZNE_circuit,\n",
    "    observable=obs,\n",
    "    noise_levels=np.array(range(5)),\n",
    "    noise_model=None,\n",
    "    nshots=100000,\n",
    "    solve_for_gammas=False,\n",
    "    insertion_gate=\"CNOT\",\n",
    "    readout=None,\n",
    "    backend=backend,\n",
    ")\n",
    "print('ZNE estimated expectation value = %.6f' %estimate)"
   ]
  },
  {
   "cell_type": "markdown",
   "id": "707ad9f8-d22d-4ddf-bf60-b8e18c3b16b0",
   "metadata": {},
   "source": [
    "# Running on a Braket device?\n",
    "### - Costs: DM1 & SV1: \\\\$0.075 per minute, TN1: \\\\$0.275 per minute\n",
    "### - Run time: "
   ]
  },
  {
   "cell_type": "code",
   "execution_count": null,
   "id": "19367544-5ff2-4399-bf8b-1ac02f5501df",
   "metadata": {},
   "outputs": [],
   "source": [
    "- Transpile to Ion Q's native gates\n",
    "- Change to Ion Q\n",
    "- Run on Ion Q"
   ]
  },
  {
   "cell_type": "code",
   "execution_count": null,
   "id": "75aa4e60-4545-447b-9353-b5af97bdf59a",
   "metadata": {},
   "outputs": [],
   "source": [
    "- Transpile to IQM's native gates\n",
    "- Change to IQM\n",
    "- Run on IQM"
   ]
  },
  {
   "cell_type": "code",
   "execution_count": null,
   "id": "e63c672c-fcc1-4092-8832-4105223582df",
   "metadata": {},
   "outputs": [],
   "source": []
  },
  {
   "cell_type": "code",
   "execution_count": null,
   "id": "a8d7847e-6308-4295-84a2-cf3c0f3664cd",
   "metadata": {},
   "outputs": [],
   "source": []
  },
  {
   "cell_type": "code",
   "execution_count": null,
   "id": "8aeed36a-d935-4f4a-8d6b-2ffc00484313",
   "metadata": {},
   "outputs": [],
   "source": []
  },
  {
   "cell_type": "code",
   "execution_count": null,
   "id": "e849fdc6-4668-42db-82ff-7963aa87803f",
   "metadata": {},
   "outputs": [],
   "source": []
  }
 ],
 "metadata": {
  "kernelspec": {
   "display_name": "Python 3 (ipykernel)",
   "language": "python",
   "name": "python3"
  },
  "language_info": {
   "codemirror_mode": {
    "name": "ipython",
    "version": 3
   },
   "file_extension": ".py",
   "mimetype": "text/x-python",
   "name": "python",
   "nbconvert_exporter": "python",
   "pygments_lexer": "ipython3",
   "version": "3.11.6"
  }
 },
 "nbformat": 4,
 "nbformat_minor": 5
}
